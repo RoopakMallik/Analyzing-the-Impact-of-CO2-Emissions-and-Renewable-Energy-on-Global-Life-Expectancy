{
 "cells": [
  {
   "cell_type": "code",
   "execution_count": 1,
   "id": "31c26032",
   "metadata": {},
   "outputs": [],
   "source": [
    "import pymongo\n",
    "from pymongo import MongoClient\n",
    "client = MongoClient()"
   ]
  },
  {
   "cell_type": "code",
   "execution_count": 2,
   "id": "b45fe8d1",
   "metadata": {},
   "outputs": [],
   "source": [
    "client = MongoClient(\"mongodb://localhost:27017/\")"
   ]
  },
  {
   "cell_type": "code",
   "execution_count": 3,
   "id": "aeb9bd99",
   "metadata": {},
   "outputs": [],
   "source": [
    "# Select database\n",
    "db = client['CO2_Renew_Life_DB']"
   ]
  },
  {
   "cell_type": "code",
   "execution_count": 4,
   "id": "5a9bf419",
   "metadata": {},
   "outputs": [],
   "source": [
    "# Select collection\n",
    "collection = db['carbon_emissions']"
   ]
  },
  {
   "cell_type": "code",
   "execution_count": 5,
   "id": "c6976c0f",
   "metadata": {},
   "outputs": [
    {
     "name": "stdout",
     "output_type": "stream",
     "text": [
      "{'_id': ObjectId('67f7a0167e2e5f9fbc725dd3'), 'Entity': 'Afghanistan', 'Year': 1949, 'Annual CO₂ emissions (per capita)': 0.0019921463}\n",
      "{'_id': ObjectId('67f7a0167e2e5f9fbc725dd4'), 'Entity': 'Afghanistan', 'Year': 1950, 'Annual CO₂ emissions (per capita)': 0.0108371945}\n",
      "{'_id': ObjectId('67f7a0167e2e5f9fbc725dd5'), 'Entity': 'Afghanistan', 'Year': 1951, 'Annual CO₂ emissions (per capita)': 0.011625335}\n",
      "{'_id': ObjectId('67f7a0167e2e5f9fbc725dd6'), 'Entity': 'Afghanistan', 'Year': 1952, 'Annual CO₂ emissions (per capita)': 0.011467513}\n",
      "{'_id': ObjectId('67f7a0167e2e5f9fbc725dd7'), 'Entity': 'Afghanistan', 'Year': 1953, 'Annual CO₂ emissions (per capita)': 0.013123366}\n"
     ]
    }
   ],
   "source": [
    "# Find all documents\n",
    "results = collection.find()\n",
    "\n",
    "# Find with condition\n",
    "results = collection.find({'age': {'$gt': 25}})  # greater than 25\n",
    "\n",
    "# With limit\n",
    "results = collection.find().limit(5)\n",
    "\n",
    "# Loop through results\n",
    "for document in results:\n",
    "    print(document)"
   ]
  },
  {
   "cell_type": "code",
   "execution_count": null,
   "id": "e5b3bd89",
   "metadata": {},
   "outputs": [],
   "source": []
  }
 ],
 "metadata": {
  "kernelspec": {
   "display_name": "Python 3",
   "language": "python",
   "name": "python3"
  },
  "language_info": {
   "codemirror_mode": {
    "name": "ipython",
    "version": 3
   },
   "file_extension": ".py",
   "mimetype": "text/x-python",
   "name": "python",
   "nbconvert_exporter": "python",
   "pygments_lexer": "ipython3",
   "version": "3.13.1"
  }
 },
 "nbformat": 4,
 "nbformat_minor": 5
}
